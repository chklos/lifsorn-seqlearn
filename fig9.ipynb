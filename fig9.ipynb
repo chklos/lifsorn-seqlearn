{
 "cells": [
  {
   "cell_type": "code",
   "execution_count": 1,
   "metadata": {},
   "outputs": [],
   "source": [
    "import matplotlib.pyplot as plt\n",
    "from tqdm.notebook import tqdm\n",
    "from scipy import stats\n",
    "from analysis import *"
   ]
  },
  {
   "cell_type": "markdown",
   "metadata": {},
   "source": [
    "# Load and prepare data"
   ]
  },
  {
   "cell_type": "code",
   "execution_count": 2,
   "metadata": {},
   "outputs": [],
   "source": [
    "# Load data\n",
    "X_es = []\n",
    "spikes = []\n",
    "weights = []\n",
    "for i in range(170, 170 + seeds_num_1):\n",
    "    data = load_data(\"./data/seqlearn_cues_per_seed{}.pickle\".format(i))\n",
    "    X_es.append(data[\"X_e\"])\n",
    "    spikes.append(data[\"spikes\"])\n",
    "    weights.append(data[\"weights\"])"
   ]
  },
  {
   "cell_type": "code",
   "execution_count": 3,
   "metadata": {},
   "outputs": [],
   "source": [
    "# Helper function to get matches\n",
    "def matches_frac(X_es, spikes, start_time):\n",
    "    matches = []\n",
    "    for i in tqdm(range(len(X_es))):\n",
    "        clu_neurs = get_cluster_neurons(X_es[i])\n",
    "        spikes_dic = spikes[i]\n",
    "        firing_times = []\n",
    "        for clu in range(clu_num):\n",
    "            spikes_clu = get_spikes(clu_neurs[clu], spikes_dic, start_time)\n",
    "            firing_times.append(rates_ftimes(spikes_clu, start_time, len(clu_neurs[clu]))[1])\n",
    "        firing_times = np.array(firing_times).T\n",
    "        spCCs = np.array(sp_corr(firing_times))\n",
    "        matches.append(len(spCCs[spCCs>0.6])/len(spCCs))\n",
    "    return np.array(matches)"
   ]
  },
  {
   "cell_type": "code",
   "execution_count": 4,
   "metadata": {},
   "outputs": [
    {
     "data": {
      "application/vnd.jupyter.widget-view+json": {
       "model_id": "2adc6435c8284554a89d945eb6877905",
       "version_major": 2,
       "version_minor": 0
      },
      "text/plain": [
       "HBox(children=(FloatProgress(value=0.0, max=30.0), HTML(value='')))"
      ]
     },
     "metadata": {},
     "output_type": "display_data"
    },
    {
     "name": "stdout",
     "output_type": "stream",
     "text": [
      "\n"
     ]
    },
    {
     "data": {
      "application/vnd.jupyter.widget-view+json": {
       "model_id": "18d60faa86bf44eaa855045544134b92",
       "version_major": 2,
       "version_minor": 0
      },
      "text/plain": [
       "HBox(children=(FloatProgress(value=0.0, max=30.0), HTML(value='')))"
      ]
     },
     "metadata": {},
     "output_type": "display_data"
    },
    {
     "name": "stdout",
     "output_type": "stream",
     "text": [
      "\n"
     ]
    },
    {
     "data": {
      "application/vnd.jupyter.widget-view+json": {
       "model_id": "e3602258a29e4a98b83a5a0b345b48b5",
       "version_major": 2,
       "version_minor": 0
      },
      "text/plain": [
       "HBox(children=(FloatProgress(value=0.0, max=30.0), HTML(value='')))"
      ]
     },
     "metadata": {},
     "output_type": "display_data"
    },
    {
     "name": "stdout",
     "output_type": "stream",
     "text": [
      "\n"
     ]
    },
    {
     "data": {
      "application/vnd.jupyter.widget-view+json": {
       "model_id": "7b288a80a0454f27a72c71649c9041bd",
       "version_major": 2,
       "version_minor": 0
      },
      "text/plain": [
       "HBox(children=(FloatProgress(value=0.0, max=30.0), HTML(value='')))"
      ]
     },
     "metadata": {},
     "output_type": "display_data"
    },
    {
     "name": "stdout",
     "output_type": "stream",
     "text": [
      "\n"
     ]
    }
   ],
   "source": [
    "# Get matches\n",
    "af_time = growth_time + test_time + 2*relax_time + learn_time\n",
    "matches_frac_bf = matches_frac(X_es, spikes, growth_time)\n",
    "matches_frac_af1 = matches_frac(X_es, spikes, af_time)\n",
    "matches_frac_af2 = matches_frac(X_es, spikes, af_time + test_time)\n",
    "matches_frac_af3 = matches_frac(X_es, spikes, af_time + 2*test_time)"
   ]
  },
  {
   "cell_type": "code",
   "execution_count": 5,
   "metadata": {},
   "outputs": [],
   "source": [
    "# Get difference in matches\n",
    "matches_diff = np.zeros((3, 2))\n",
    "matches_diff[0] = [np.mean(matches_frac_af1 - matches_frac_bf), stats.sem(matches_frac_af1 - matches_frac_bf)]\n",
    "matches_diff[1] = np.mean(matches_frac_af2 - matches_frac_bf), stats.sem(matches_frac_af2 - matches_frac_bf)\n",
    "matches_diff[2] = np.mean(matches_frac_af3 - matches_frac_bf), stats.sem(matches_frac_af3 - matches_frac_bf)"
   ]
  },
  {
   "cell_type": "code",
   "execution_count": 6,
   "metadata": {},
   "outputs": [],
   "source": [
    "# Helper function to transform stored weights into weight matrices\n",
    "def weights_to_matrix(weights, clu_neurs):\n",
    "    clu_neurs = np.concatenate(clu_neurs)\n",
    "    W = np.zeros((N_e, N_e))\n",
    "    W[~np.eye(N_e, dtype=bool)] = weights\n",
    "    W = W[clu_neurs, :]\n",
    "    W = W[:, clu_neurs]\n",
    "    return W\n",
    "\n",
    "# Helper function to get forward and backward weights\n",
    "def get_Ws(X_es, weights):\n",
    "    W_fw = []\n",
    "    W_bw = []\n",
    "    for i in tqdm(range(len(X_es))):\n",
    "        clu_neurs = get_cluster_neurons(X_es[i])\n",
    "        weights_i = weights[i].T\n",
    "        W_fw_i = []\n",
    "        W_bw_i = []\n",
    "        for weights_it in weights_i:\n",
    "            W_it = weights_to_matrix(weights_it, [np.arange(N_e)])\n",
    "            W_fw_it = 0\n",
    "            W_bw_it = 0\n",
    "            neur_num = 0\n",
    "            for clu_a in range(clu_num-1):\n",
    "                W_fw_it += np.sum(W_it[np.ix_(clu_neurs[clu_a], clu_neurs[clu_a+1])])\n",
    "                W_bw_it += np.sum(W_it[np.ix_(clu_neurs[clu_a+1], clu_neurs[clu_a])])\n",
    "                neur_num += len(clu_neurs[clu_a])*len(clu_neurs[clu_a+1])\n",
    "            W_fw_i.append(W_fw_it / neur_num)\n",
    "            W_bw_i.append(W_bw_it / neur_num)\n",
    "        W_fw.append(W_fw_i)\n",
    "        W_bw.append(W_bw_i)\n",
    "    return np.array(W_fw), np.array(W_bw)"
   ]
  },
  {
   "cell_type": "code",
   "execution_count": 7,
   "metadata": {},
   "outputs": [
    {
     "data": {
      "application/vnd.jupyter.widget-view+json": {
       "model_id": "6b935385864e474692be558d04b220de",
       "version_major": 2,
       "version_minor": 0
      },
      "text/plain": [
       "HBox(children=(FloatProgress(value=0.0, max=30.0), HTML(value='')))"
      ]
     },
     "metadata": {},
     "output_type": "display_data"
    },
    {
     "name": "stdout",
     "output_type": "stream",
     "text": [
      "\n"
     ]
    }
   ],
   "source": [
    "# Get forward and backward weights\n",
    "af_time = 2*relax_time + learn_time + test_time + test_time_afper - 10*second\n",
    "times_W = np.linspace(growth_time, growth_time + af_time, int(af_time/10*second)+1)\n",
    "W_fw, W_bw = get_Ws(X_es, weights)"
   ]
  },
  {
   "cell_type": "markdown",
   "metadata": {},
   "source": [
    "# Figure"
   ]
  },
  {
   "cell_type": "code",
   "execution_count": 8,
   "metadata": {},
   "outputs": [
    {
     "data": {
      "image/png": "[encoded data removed]",
      "text/plain": [
       "<Figure size 1080x288 with 2 Axes>"
      ]
     },
     "metadata": {
      "needs_background": "light"
     },
     "output_type": "display_data"
    }
   ],
   "source": [
    "fig, axs = plt.subplots(1, 2, figsize=(15, 4))\n",
    "\n",
    "# Panel A\n",
    "ax = axs[0]\n",
    "ax.errorbar([50, 150, 250], 100*matches_diff[:, 0], yerr=100*matches_diff[:, 1], color=\"k\", label=\"SORN\")\n",
    "ax.axhline(0, color=\"k\", ls=\"--\")\n",
    "ax.legend()\n",
    "ax.set_ylim(-5, 19)\n",
    "ax.set_xlim(0, 350)\n",
    "ax.set_xlabel(\"Time after training [s]\")\n",
    "ax.set_ylabel(\"$\\Delta M$ [%]\")\n",
    "\n",
    "# Panel B\n",
    "ax = axs[1]\n",
    "ax.errorbar(times_W, np.mean(W_fw, 0), yerr=stats.sem(W_fw, 0), color=(0, 0.9, 0), label=\"Forward\")\n",
    "ax.errorbar(times_W, np.mean(W_bw, 0), yerr=stats.sem(W_bw, 0), color=(0.9, 0.0, 0.9), label=\"Backward\")\n",
    "ax.axvspan(growth_time + test_time+ relax_time, \n",
    "           growth_time + test_time + relax_time + learn_time, facecolor=\"0.7\")\n",
    "ax.legend()\n",
    "ax.set_xlim(times_W[0], times_W[-1])\n",
    "ax.set_ylim(0, 1)\n",
    "ax.set_xlabel(\"Simulation time [s]\")\n",
    "ax.set_ylabel(\"Weight\")\n",
    "\n",
    "plt.show()"
   ]
  },
  {
   "cell_type": "code",
   "execution_count": null,
   "metadata": {},
   "outputs": [],
   "source": []
  }
 ],
 "metadata": {
  "kernelspec": {
   "display_name": "Python_def",
   "language": "python",
   "name": "python_def"
  },
  "language_info": {
   "codemirror_mode": {
    "name": "ipython",
    "version": 3
   },
   "file_extension": ".py",
   "mimetype": "text/x-python",
   "name": "python",
   "nbconvert_exporter": "python",
   "pygments_lexer": "ipython3",
   "version": "3.8.8"
  }
 },
 "nbformat": 4,
 "nbformat_minor": 4
}
