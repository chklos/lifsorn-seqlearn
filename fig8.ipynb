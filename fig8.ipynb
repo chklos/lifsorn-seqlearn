{
 "cells": [
  {
   "cell_type": "code",
   "execution_count": 1,
   "metadata": {},
   "outputs": [],
   "source": [
    "import matplotlib.pyplot as plt\n",
    "from tqdm.notebook import tqdm\n",
    "import scipy.stats as stats\n",
    "from analysis import *"
   ]
  },
  {
   "cell_type": "markdown",
   "metadata": {},
   "source": [
    "# Load and prepare data"
   ]
  },
  {
   "cell_type": "code",
   "execution_count": 2,
   "metadata": {},
   "outputs": [],
   "source": [
    "# Helper function to compute recall speed\n",
    "def recall_speed(X_es, spikes, start_time):\n",
    "    recall_speeds = []\n",
    "    clu_pos = [linalg.norm(clu_end - clu_start) * clu / (clu_num-1) for clu in range(clu_num)]\n",
    "    for i in tqdm(range(len(X_es))):\n",
    "        clu_neurs = get_cluster_neurons(X_es[i])\n",
    "        spikes_dic = spikes[i]\n",
    "        firing_times = []\n",
    "        for clu in range(clu_num):\n",
    "            spikes_clu = get_spikes(clu_neurs[clu], spikes_dic, start_time)\n",
    "            firing_times.append(rates_ftimes(spikes_clu, start_time, len(clu_neurs[clu]))[1])\n",
    "        firing_times = np.array(firing_times).T\n",
    "        spCCs = np.array(sp_corr(firing_times))\n",
    "        recall_speeds_i = []\n",
    "        #breakpoint()\n",
    "        for ftimes in firing_times[spCCs > 0.9]:\n",
    "            recall_speeds_i.append(stats.linregress(ftimes, clu_pos)[0])\n",
    "        if len(recall_speeds_i)>0:\n",
    "            recall_speeds.append(np.mean(recall_speeds_i))\n",
    "    return recall_speeds"
   ]
  },
  {
   "cell_type": "code",
   "execution_count": 3,
   "metadata": {},
   "outputs": [
    {
     "data": {
      "application/vnd.jupyter.widget-view+json": {
       "model_id": "b44dedacd1f042f7b5bf3f175ddf7ec1",
       "version_major": 2,
       "version_minor": 0
      },
      "text/plain": [
       "HBox(children=(FloatProgress(value=1.0, bar_style='info', max=1.0), HTML(value='')))"
      ]
     },
     "metadata": {},
     "output_type": "display_data"
    },
    {
     "data": {
      "application/vnd.jupyter.widget-view+json": {
       "model_id": "db579547b5b0426ea5a7447ad0f89a17",
       "version_major": 2,
       "version_minor": 0
      },
      "text/plain": [
       "HBox(children=(FloatProgress(value=0.0, max=20.0), HTML(value='')))"
      ]
     },
     "metadata": {},
     "output_type": "display_data"
    },
    {
     "name": "stdout",
     "output_type": "stream",
     "text": [
      "\n"
     ]
    },
    {
     "data": {
      "application/vnd.jupyter.widget-view+json": {
       "model_id": "15119f528b14448ea2abaa08122ea6ee",
       "version_major": 2,
       "version_minor": 0
      },
      "text/plain": [
       "HBox(children=(FloatProgress(value=0.0, max=20.0), HTML(value='')))"
      ]
     },
     "metadata": {},
     "output_type": "display_data"
    },
    {
     "name": "stdout",
     "output_type": "stream",
     "text": [
      "\n"
     ]
    },
    {
     "data": {
      "application/vnd.jupyter.widget-view+json": {
       "model_id": "74c454d86b524510958b3397c1c39e7a",
       "version_major": 2,
       "version_minor": 0
      },
      "text/plain": [
       "HBox(children=(FloatProgress(value=0.0, max=20.0), HTML(value='')))"
      ]
     },
     "metadata": {},
     "output_type": "display_data"
    },
    {
     "name": "stdout",
     "output_type": "stream",
     "text": [
      "\n"
     ]
    },
    {
     "data": {
      "application/vnd.jupyter.widget-view+json": {
       "model_id": "dd587638398d4c9a8733f82d318e8e04",
       "version_major": 2,
       "version_minor": 0
      },
      "text/plain": [
       "HBox(children=(FloatProgress(value=0.0, max=20.0), HTML(value='')))"
      ]
     },
     "metadata": {},
     "output_type": "display_data"
    },
    {
     "name": "stdout",
     "output_type": "stream",
     "text": [
      "\n"
     ]
    },
    {
     "data": {
      "application/vnd.jupyter.widget-view+json": {
       "model_id": "56209c3817ef4a818b00412fe6e0b13e",
       "version_major": 2,
       "version_minor": 0
      },
      "text/plain": [
       "HBox(children=(FloatProgress(value=0.0, max=20.0), HTML(value='')))"
      ]
     },
     "metadata": {},
     "output_type": "display_data"
    },
    {
     "name": "stdout",
     "output_type": "stream",
     "text": [
      "\n",
      "\n"
     ]
    }
   ],
   "source": [
    "# Load date and compute recall speeds\n",
    "af_time = growth_time + test_time + 2*relax_time + learn_time\n",
    "vlist = [4, 8, 12, 16, 20]\n",
    "recall_speeds = []\n",
    "for i_v, v in tqdm(enumerate(vlist)):\n",
    "    X_es = []\n",
    "    spikes = []\n",
    "    for i in range(40 + i_v*20, 40 + i_v*20 + seeds_num):\n",
    "        if i!=6:\n",
    "            data = load_data(\"./data/seqlearn_cues_v{}_seed{}.pickle\".format(v, i))\n",
    "        X_es.append(data[\"X_e\"])\n",
    "        spikes.append(data[\"spikes\"])\n",
    "    recall_speeds.append(recall_speed(X_es, spikes, af_time))"
   ]
  },
  {
   "cell_type": "markdown",
   "metadata": {},
   "source": [
    "# Figure"
   ]
  },
  {
   "cell_type": "code",
   "execution_count": 4,
   "metadata": {},
   "outputs": [
    {
     "data": {
      "image/png": "[encoded data removed]",
      "text/plain": [
       "<Figure size 720x432 with 1 Axes>"
      ]
     },
     "metadata": {
      "needs_background": "light"
     },
     "output_type": "display_data"
    }
   ],
   "source": [
    "fig, ax = plt.subplots(1, 1, figsize=(10, 6))\n",
    "\n",
    "ax.plot([0] + vlist + [max(vlist)+5], [0] + vlist + [max(vlist)+5],'k--', \n",
    "      label = r'$v_{spot}$')\n",
    "recall_speeds_mean = 10**3 * np.array([np.mean(vs) for vs in recall_speeds])\n",
    "recall_speeds_sem = 10**3 * np.array([stats.sem(vs) for vs in recall_speeds])\n",
    "ax.errorbar(vlist, recall_speeds_mean, yerr=recall_speeds_sem, fmt='k', capsize=0, \n",
    "          label = r'$\\langle v_{rc} \\rangle$')\n",
    "\n",
    "ax.set_xlim(0, max(vlist)+5)\n",
    "ax.set_ylim(0, 25)\n",
    "ax.set_ylabel(r'Speed [$\\mu$m/ms]')\n",
    "ax.set_xlabel(r'$v_{spot}$ [$\\mu$m/ms]')\n",
    "ax.legend()\n",
    "\n",
    "plt.show()"
   ]
  },
  {
   "cell_type": "code",
   "execution_count": null,
   "metadata": {},
   "outputs": [],
   "source": []
  }
 ],
 "metadata": {
  "kernelspec": {
   "display_name": "Python_def",
   "language": "python",
   "name": "python_def"
  },
  "language_info": {
   "codemirror_mode": {
    "name": "ipython",
    "version": 3
   },
   "file_extension": ".py",
   "mimetype": "text/x-python",
   "name": "python",
   "nbconvert_exporter": "python",
   "pygments_lexer": "ipython3",
   "version": "3.8.8"
  }
 },
 "nbformat": 4,
 "nbformat_minor": 4
}
