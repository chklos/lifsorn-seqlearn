{
 "cells": [
  {
   "cell_type": "code",
   "execution_count": 1,
   "metadata": {},
   "outputs": [],
   "source": [
    "import matplotlib.pyplot as plt\n",
    "from tqdm.notebook import tqdm  # only for convenience\n",
    "from analysis import *"
   ]
  },
  {
   "cell_type": "markdown",
   "metadata": {},
   "source": [
    "# Load and prepare data"
   ]
  },
  {
   "cell_type": "code",
   "execution_count": 2,
   "metadata": {},
   "outputs": [],
   "source": [
    "# Load data with cue at S\n",
    "cues_X_es = []\n",
    "cues_spikes = []\n",
    "for i in range(40, 40 + seeds_num):\n",
    "    data = load_data(\"./data/seqlearn_cues_v4_seed{}.pickle\".format(i))\n",
    "    cues_X_es.append(data[\"X_e\"])\n",
    "    cues_spikes.append(data[\"spikes\"])"
   ]
  },
  {
   "cell_type": "code",
   "execution_count": 3,
   "metadata": {},
   "outputs": [],
   "source": [
    "# Load data with cue at M\n",
    "cuem_X_es = []\n",
    "cuem_spikes = []\n",
    "for i in range(0, 0 + seeds_num):\n",
    "    data = load_data(\"./data/seqlearn_cuem_v4_seed{}.pickle\".format(i))\n",
    "    cuem_X_es.append(data[\"X_e\"])\n",
    "    cuem_spikes.append(data[\"spikes\"])"
   ]
  },
  {
   "cell_type": "code",
   "execution_count": 4,
   "metadata": {},
   "outputs": [],
   "source": [
    "# Load data with cue at G\n",
    "cueg_X_es = []\n",
    "cueg_spikes = []\n",
    "for i in range(20, 20 + seeds_num):\n",
    "    data = load_data(\"./data/seqlearn_cueg_v4_seed{}.pickle\".format(i))\n",
    "    cueg_X_es.append(data[\"X_e\"])\n",
    "    cueg_spikes.append(data[\"spikes\"])"
   ]
  },
  {
   "cell_type": "code",
   "execution_count": 5,
   "metadata": {},
   "outputs": [],
   "source": [
    "# Helper function to determine Spearman CCs\n",
    "def sp_corr_all(X_es, spikes, start_time, clu_seq=np.arange(clu_num)):\n",
    "    spCCs = []\n",
    "    for i in tqdm(range(len(X_es))):\n",
    "        clu_neurs = get_cluster_neurons(X_es[i])\n",
    "        spikes_dic = spikes[i]\n",
    "        firing_times = []\n",
    "        for clu in range(clu_num):\n",
    "            spikes_clu = get_spikes(clu_neurs[clu], spikes_dic, start_time)\n",
    "            firing_times.append(rates_ftimes(spikes_clu, start_time, len(clu_neurs[clu]))[1])\n",
    "        firing_times = np.array(firing_times).T\n",
    "        spCCs.append(sp_corr(firing_times, clu_seq))\n",
    "    return np.concatenate(spCCs)"
   ]
  },
  {
   "cell_type": "code",
   "execution_count": 6,
   "metadata": {},
   "outputs": [
    {
     "data": {
      "application/vnd.jupyter.widget-view+json": {
       "model_id": "b538eff3c879413fa6f7b9ad2f63bebb",
       "version_major": 2,
       "version_minor": 0
      },
      "text/plain": [
       "HBox(children=(FloatProgress(value=0.0, max=20.0), HTML(value='')))"
      ]
     },
     "metadata": {},
     "output_type": "display_data"
    },
    {
     "name": "stdout",
     "output_type": "stream",
     "text": [
      "\n"
     ]
    },
    {
     "data": {
      "application/vnd.jupyter.widget-view+json": {
       "model_id": "de10659cf1474d76a6628923521587b6",
       "version_major": 2,
       "version_minor": 0
      },
      "text/plain": [
       "HBox(children=(FloatProgress(value=0.0, max=20.0), HTML(value='')))"
      ]
     },
     "metadata": {},
     "output_type": "display_data"
    },
    {
     "name": "stdout",
     "output_type": "stream",
     "text": [
      "\n"
     ]
    },
    {
     "data": {
      "application/vnd.jupyter.widget-view+json": {
       "model_id": "907f3676fca6443ba444aad6cbbcc5d6",
       "version_major": 2,
       "version_minor": 0
      },
      "text/plain": [
       "HBox(children=(FloatProgress(value=0.0, max=20.0), HTML(value='')))"
      ]
     },
     "metadata": {},
     "output_type": "display_data"
    },
    {
     "name": "stdout",
     "output_type": "stream",
     "text": [
      "\n"
     ]
    },
    {
     "data": {
      "application/vnd.jupyter.widget-view+json": {
       "model_id": "5be2f80a81f943d99e3bc7acb8380669",
       "version_major": 2,
       "version_minor": 0
      },
      "text/plain": [
       "HBox(children=(FloatProgress(value=0.0, max=20.0), HTML(value='')))"
      ]
     },
     "metadata": {},
     "output_type": "display_data"
    },
    {
     "name": "stdout",
     "output_type": "stream",
     "text": [
      "\n"
     ]
    },
    {
     "data": {
      "application/vnd.jupyter.widget-view+json": {
       "model_id": "4f7a3c6bc2f94876a1d0ca8c7aa275ce",
       "version_major": 2,
       "version_minor": 0
      },
      "text/plain": [
       "HBox(children=(FloatProgress(value=0.0, max=20.0), HTML(value='')))"
      ]
     },
     "metadata": {},
     "output_type": "display_data"
    },
    {
     "name": "stdout",
     "output_type": "stream",
     "text": [
      "\n"
     ]
    },
    {
     "data": {
      "application/vnd.jupyter.widget-view+json": {
       "model_id": "5d9255f673674a9c8c77f7edcdc4725f",
       "version_major": 2,
       "version_minor": 0
      },
      "text/plain": [
       "HBox(children=(FloatProgress(value=0.0, max=20.0), HTML(value='')))"
      ]
     },
     "metadata": {},
     "output_type": "display_data"
    },
    {
     "name": "stdout",
     "output_type": "stream",
     "text": [
      "\n"
     ]
    }
   ],
   "source": [
    "# Compute Spearman CCs\n",
    "af_time = growth_time + test_time + 2*relax_time + learn_time\n",
    "cues_spCCs_bf = sp_corr_all(cues_X_es, cues_spikes, growth_time)\n",
    "cues_spCCs_af = sp_corr_all(cues_X_es, cues_spikes, af_time)\n",
    "cuem_spCCs_bf = sp_corr_all(cuem_X_es, cuem_spikes, growth_time)\n",
    "cuem_spCCs_af = sp_corr_all(cuem_X_es, cuem_spikes, af_time)\n",
    "cueg_spCCs_bf = sp_corr_all(cueg_X_es, cueg_spikes, growth_time, clu_seq=np.arange(clu_num)[::-1])\n",
    "cueg_spCCs_af = sp_corr_all(cueg_X_es, cueg_spikes, af_time, clu_seq=np.arange(clu_num)[::-1])"
   ]
  },
  {
   "cell_type": "markdown",
   "metadata": {},
   "source": [
    "# Figure"
   ]
  },
  {
   "cell_type": "code",
   "execution_count": 7,
   "metadata": {},
   "outputs": [],
   "source": [
    "# Helper function to plot Spearman CCs\n",
    "def plot_spCC(ax, spCCs_bf, spCCs_af):\n",
    "    ax.hist(spCCs_bf, cumulative=True, \n",
    "            density=True, histtype=\"step\", color='k', ls=\":\", range=(-1, 1), bins=500)\n",
    "    ax.hist(spCCs_af, cumulative=True, \n",
    "            density=True, histtype=\"step\", color='k', ls=\"-\", range=(-1, 1), bins=500)\n",
    "    ax.set_xlim(-1, 1)\n",
    "    ax.set_ylim(0, 1)\n",
    "    ax.set_xlabel(\"Spearman CC\")"
   ]
  },
  {
   "cell_type": "code",
   "execution_count": 8,
   "metadata": {},
   "outputs": [
    {
     "data": {
      "image/png": "[encoded data removed]",
      "text/plain": [
       "<Figure size 1080x288 with 3 Axes>"
      ]
     },
     "metadata": {
      "needs_background": "light"
     },
     "output_type": "display_data"
    }
   ],
   "source": [
    "fig, axs = plt.subplots(1, 3, figsize=(15, 4), sharex=True, sharey=True)\n",
    "\n",
    "# Panel A\n",
    "ax = axs[0]\n",
    "plot_spCC(ax, cues_spCCs_bf, cues_spCCs_af)\n",
    "ax.set_ylabel(\"Cumulative [%]\")\n",
    "ax.set_title(r\"$\\tilde{S}$-evoked\")\n",
    "\n",
    "# Panel B\n",
    "ax = axs[1]\n",
    "plot_spCC(ax, cuem_spCCs_bf, cuem_spCCs_af)\n",
    "ax.set_title(r\"$\\tilde{M}$-evoked\")\n",
    "\n",
    "# Panel C\n",
    "ax = axs[2]\n",
    "plot_spCC(ax, cueg_spCCs_bf, cueg_spCCs_af)\n",
    "ax.set_title(r\"$\\tilde{G}$-evoked\")\n",
    "\n",
    "plt.show()"
   ]
  },
  {
   "cell_type": "code",
   "execution_count": null,
   "metadata": {},
   "outputs": [],
   "source": []
  }
 ],
 "metadata": {
  "kernelspec": {
   "display_name": "Python_def",
   "language": "python",
   "name": "python_def"
  },
  "language_info": {
   "codemirror_mode": {
    "name": "ipython",
    "version": 3
   },
   "file_extension": ".py",
   "mimetype": "text/x-python",
   "name": "python",
   "nbconvert_exporter": "python",
   "pygments_lexer": "ipython3",
   "version": "3.8.8"
  }
 },
 "nbformat": 4,
 "nbformat_minor": 4
}
